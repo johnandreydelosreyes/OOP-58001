{
  "nbformat": 4,
  "nbformat_minor": 0,
  "metadata": {
    "colab": {
      "name": "Long Quiz1.ipynb",
      "provenance": [],
      "authorship_tag": "ABX9TyPUr8lh0KEoUAxs+XXMMwKR",
      "include_colab_link": true
    },
    "kernelspec": {
      "name": "python3",
      "display_name": "Python 3"
    },
    "language_info": {
      "name": "python"
    }
  },
  "cells": [
    {
      "cell_type": "markdown",
      "metadata": {
        "id": "view-in-github",
        "colab_type": "text"
      },
      "source": [
        "<a href=\"https://colab.research.google.com/github/seulwlrma/OOP-58001/blob/main/Long_Quiz1.ipynb\" target=\"_parent\"><img src=\"https://colab.research.google.com/assets/colab-badge.svg\" alt=\"Open In Colab\"/></a>"
      ]
    },
    {
      "cell_type": "code",
      "source": [
        "class Circle():\n",
        "  def __init__(self, radius, pi):\n",
        "    self.radius = radius\n",
        "    self.pi = pi\n",
        "\n",
        "  def Area (self):\n",
        "    return self.pi*self.radius**2\n",
        "\n",
        "  def Perimeter(self):\n",
        "    return 2*(self.pi*self.radius)\n",
        "\n",
        "  def display(self):\n",
        "    print(\"The Perimeter of the circle is \",self.Perimeter())\n",
        "    print(\"The Area of this circle is \",self.Area())\n",
        "\n",
        "C1 = Circle (int(input()),3.14)\n",
        "C1.display()\n"
      ],
      "metadata": {
        "colab": {
          "base_uri": "https://localhost:8080/"
        },
        "id": "tiybFZtxIvOx",
        "outputId": "348c84a8-01c4-4fcd-d818-2b867362a936"
      },
      "execution_count": 9,
      "outputs": [
        {
          "output_type": "stream",
          "name": "stdout",
          "text": [
            "96\n",
            "The Perimeter of the circle is  602.88\n",
            "The Area of this circle is  28938.24\n"
          ]
        }
      ]
    }
  ]
}