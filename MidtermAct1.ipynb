{
  "nbformat": 4,
  "nbformat_minor": 0,
  "metadata": {
    "colab": {
      "name": "MidtermAct1.ipynb",
      "provenance": [],
      "authorship_tag": "ABX9TyPksMbexpefztFPhJ8uflob",
      "include_colab_link": true
    },
    "kernelspec": {
      "name": "python3",
      "display_name": "Python 3"
    },
    "language_info": {
      "name": "python"
    }
  },
  "cells": [
    {
      "cell_type": "markdown",
      "metadata": {
        "id": "view-in-github",
        "colab_type": "text"
      },
      "source": [
        "<a href=\"https://colab.research.google.com/github/seulwlrma/OOP-58001/blob/main/MidtermAct1.ipynb\" target=\"_parent\"><img src=\"https://colab.research.google.com/assets/colab-badge.svg\" alt=\"Open In Colab\"/></a>"
      ]
    },
    {
      "cell_type": "markdown",
      "source": [
        "Application 1 - 30% prelim, 30% midterm, 40% final = sem grade\n",
        "\n",
        "1. Create a Python program that displays the name of three students.(student 1, student2, and student 3) and their term grades.\n",
        "2. Create a class name Person and attributes - std1, std2, std3, pre, mid, fin.\n",
        "3. Compute the average of each term grade using Grade() method.\n",
        "4. Information about students grades must be hidden to others."
      ],
      "metadata": {
        "id": "UxhIBmZu-1Qf"
      }
    },
    {
      "cell_type": "code",
      "source": [
        "class Person:\n",
        "  def __init__(self, name, pre, mid, fin):\n",
        "    self._name = name\n",
        "    self._pre = pre\n",
        "    self._mid = mid\n",
        "    self._fin = fin\n",
        "  def Grades(self):\n",
        "    return print( self._name, \"has a semestral grade of: \", self._pre*0.30 + self._mid*0.30 + self._fin*0.40)\n",
        "\n",
        "\n",
        "std1 = Person(\"Eren Jeager\",95 ,88, 92) \n",
        "\n",
        "std2 = Person(\"Levi Ackerman\",85,92,83)\n",
        "\n",
        "std3 = Person(\"Stewie Griffin\",91,87,100)\n",
        "\n",
        "x = input(str(\"Please input your Last Name \"))\n",
        "\n",
        "if x == \"Jeager\":\n",
        "  std1.Grades()\n",
        "else:\n",
        "  if x == \"Ackerman\":\n",
        "    std2.Grades()\n",
        "  else:\n",
        "    if x == \"Griffin\":\n",
        "      std3.Grades()\n",
        "    else:\n",
        "      print(\"No record of this Student\")"
      ],
      "metadata": {
        "colab": {
          "base_uri": "https://localhost:8080/"
        },
        "id": "jhquQt06_z9-",
        "outputId": "d37a911c-4b2f-407a-ebd1-8d9109ea5645"
      },
      "execution_count": 17,
      "outputs": [
        {
          "output_type": "stream",
          "name": "stdout",
          "text": [
            "Please input your Last Name Ackerman\n",
            "Levi Ackerman has a semestral grade of:  86.3\n"
          ]
        }
      ]
    }
  ]
}