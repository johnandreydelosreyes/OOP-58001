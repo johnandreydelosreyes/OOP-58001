{
  "nbformat": 4,
  "nbformat_minor": 0,
  "metadata": {
    "colab": {
      "name": "Prelim Exam.ipynb",
      "provenance": [],
      "authorship_tag": "ABX9TyNDsZIPb2iYIbrUgOV7dupx",
      "include_colab_link": true
    },
    "kernelspec": {
      "name": "python3",
      "display_name": "Python 3"
    },
    "language_info": {
      "name": "python"
    }
  },
  "cells": [
    {
      "cell_type": "markdown",
      "metadata": {
        "id": "view-in-github",
        "colab_type": "text"
      },
      "source": [
        "<a href=\"https://colab.research.google.com/github/seulwlrma/OOP-58001/blob/main/Prelim_Exam.ipynb\" target=\"_parent\"><img src=\"https://colab.research.google.com/assets/colab-badge.svg\" alt=\"Open In Colab\"/></a>"
      ]
    },
    {
      "cell_type": "code",
      "execution_count": 17,
      "metadata": {
        "colab": {
          "base_uri": "https://localhost:8080/"
        },
        "id": "6ExIgRJUEGla",
        "outputId": "c7aad577-6ab5-4f01-f273-141c8e95823e"
      },
      "outputs": [
        {
          "output_type": "stream",
          "name": "stdout",
          "text": [
            "John Andrey Delos Reyes 202119019 19y/o Adamson University BS Computer Engineering\n"
          ]
        }
      ],
      "source": [
        "class StudentwithAttributes():\n",
        "  def __init__(self,name,studno,age,school,course):\n",
        "    self.name = name\n",
        "    self.studno = studno\n",
        "    self.age = age\n",
        "    self.school = school\n",
        "    self.course = course\n",
        "\n",
        "  def student(self):\n",
        "    return self.name + self.studno + self.age + self.school + self.course\n",
        "\n",
        "  def section(self):\n",
        "    print(self.student())\n",
        "\n",
        "myself = StudentwithAttributes(\"John Andrey Delos Reyes \",\"202119019 \",\"19y/o \", \"Adamson University \", \"BS Computer Engineering\")\n",
        "myself.section()"
      ]
    },
    {
      "cell_type": "code",
      "source": [
        ""
      ],
      "metadata": {
        "id": "tPuLP1TOHui7"
      },
      "execution_count": null,
      "outputs": []
    }
  ]
}