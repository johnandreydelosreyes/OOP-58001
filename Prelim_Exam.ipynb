{
  "nbformat": 4,
  "nbformat_minor": 0,
  "metadata": {
    "colab": {
      "name": "Prelim Exam.ipynb",
      "provenance": [],
      "authorship_tag": "ABX9TyMbXj3zNmjLxxSrT0mSAzhA",
      "include_colab_link": true
    },
    "kernelspec": {
      "name": "python3",
      "display_name": "Python 3"
    },
    "language_info": {
      "name": "python"
    }
  },
  "cells": [
    {
      "cell_type": "markdown",
      "metadata": {
        "id": "view-in-github",
        "colab_type": "text"
      },
      "source": [
        "<a href=\"https://colab.research.google.com/github/seulwlrma/OOP-58001/blob/main/Prelim_Exam.ipynb\" target=\"_parent\"><img src=\"https://colab.research.google.com/assets/colab-badge.svg\" alt=\"Open In Colab\"/></a>"
      ]
    },
    {
      "cell_type": "code",
      "execution_count": 22,
      "metadata": {
        "colab": {
          "base_uri": "https://localhost:8080/"
        },
        "id": "6ExIgRJUEGla",
        "outputId": "41568b0b-3e8d-4ce6-a81b-8b7e4db70332"
      },
      "outputs": [
        {
          "output_type": "stream",
          "name": "stdout",
          "text": [
            "John Andrey Delos Reyes 202119019 19y/o Adamson University BS Computer Engineering\n"
          ]
        }
      ],
      "source": [
        "class Student():\n",
        "  def __init__(self,name,studno,yearold,adu,cpe):\n",
        "    self.name = name\n",
        "    self.studno = studno\n",
        "    self.yearold = yearold\n",
        "    self.adu = adu\n",
        "    self.cpe = cpe\n",
        "\n",
        "  def student(self):\n",
        "    return self.name + self.studno + self.yearold + self.adu + self.cpe\n",
        "\n",
        "  def detail(self):\n",
        "    print(self.student())\n",
        "\n",
        "myself = Student(\"John Andrey Delos Reyes \",\"202119019 \",\"19y/o \", \"Adamson University \", \"BS Computer Engineering\")\n",
        "myself.detail()"
      ]
    },
    {
      "cell_type": "code",
      "source": [
        ""
      ],
      "metadata": {
        "id": "tPuLP1TOHui7"
      },
      "execution_count": null,
      "outputs": []
    }
  ]
}