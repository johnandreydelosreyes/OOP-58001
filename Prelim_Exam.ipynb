{
  "nbformat": 4,
  "nbformat_minor": 0,
  "metadata": {
    "colab": {
      "name": "Prelim Exam.ipynb",
      "provenance": [],
      "authorship_tag": "ABX9TyPpJDzrfQSF4qYMsxT/Q3Q5",
      "include_colab_link": true
    },
    "kernelspec": {
      "name": "python3",
      "display_name": "Python 3"
    },
    "language_info": {
      "name": "python"
    }
  },
  "cells": [
    {
      "cell_type": "markdown",
      "metadata": {
        "id": "view-in-github",
        "colab_type": "text"
      },
      "source": [
        "<a href=\"https://colab.research.google.com/github/seulwlrma/OOP-58001/blob/main/Prelim_Exam.ipynb\" target=\"_parent\"><img src=\"https://colab.research.google.com/assets/colab-badge.svg\" alt=\"Open In Colab\"/></a>"
      ]
    },
    {
      "cell_type": "code",
      "execution_count": 14,
      "metadata": {
        "colab": {
          "base_uri": "https://localhost:8080/"
        },
        "id": "6ExIgRJUEGla",
        "outputId": "c514cfdc-606e-43f6-aa8a-ac8ee9ef97ae"
      },
      "outputs": [
        {
          "output_type": "stream",
          "name": "stdout",
          "text": [
            "John Andrey Delos Reyes 20211901919 Adamson UniversityBS Computer Engineering\n"
          ]
        }
      ],
      "source": [
        "class myself():\n",
        "  def __init__(self,name,studno,age,school,course):\n",
        "    self.name = name\n",
        "    self.studno = studno\n",
        "    self.age = age\n",
        "    self.school = school\n",
        "    self.course = course\n",
        "\n",
        "  def student(self):\n",
        "    return self.name + self.studno + self.age + self.school + self.course\n",
        "\n",
        "  def section(self):\n",
        "    print(self.student())\n",
        "\n",
        "student = myself(\"John Andrey Delos Reyes \",\"202119019\",\"19 \", \"Adamson University\", \"BS Computer Engineering\")\n",
        "student.section()"
      ]
    },
    {
      "cell_type": "code",
      "source": [
        ""
      ],
      "metadata": {
        "id": "tPuLP1TOHui7"
      },
      "execution_count": null,
      "outputs": []
    }
  ]
}